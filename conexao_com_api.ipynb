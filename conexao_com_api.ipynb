{
 "cells": [
  {
   "cell_type": "code",
   "execution_count": null,
   "id": "dc6a0beb-4437-4843-a7e6-a70b80e42786",
   "metadata": {},
   "outputs": [],
   "source": [
    "# Nosso sistema de conexão com a api"
   ]
  },
  {
   "cell_type": "code",
   "execution_count": 1,
   "id": "eabd4cc6-0576-442d-b2ec-263625d4499c",
   "metadata": {},
   "outputs": [],
   "source": [
    "# Conexões\n",
    "import requests"
   ]
  },
  {
   "cell_type": "code",
   "execution_count": 14,
   "id": "6643b248",
   "metadata": {},
   "outputs": [
    {
     "data": {
      "text/plain": [
       "{'Final': '2023-10-08 15:23:30.465624',\n",
       " 'Inicio': '2023-10-08 15:23:30.458155',\n",
       " 'Processamento': '0:00:00.007469',\n",
       " 'valor_aluguel': '[1533.85325374]'}"
      ]
     },
     "execution_count": 14,
     "metadata": {},
     "output_type": "execute_result"
    }
   ],
   "source": [
    "# Local da Url\n",
    "url = 'http://127.0.0.1:5000/API_Preditivo/25;1;1;0;0;0;0;0;84'\n",
    "\n",
    "#Acessar a conexão\n",
    "consulta = requests.get( url )\n",
    "\n",
    "# Buscar a info\n",
    "Resposta = consulta.json()\n",
    "\n",
    "# Devolução\n",
    "Resposta"
   ]
  },
  {
   "cell_type": "code",
   "execution_count": null,
   "id": "80bad081",
   "metadata": {},
   "outputs": [],
   "source": []
  }
 ],
 "metadata": {
  "kernelspec": {
   "display_name": "Python 3 (ipykernel)",
   "language": "python",
   "name": "python3"
  },
  "language_info": {
   "codemirror_mode": {
    "name": "ipython",
    "version": 3
   },
   "file_extension": ".py",
   "mimetype": "text/x-python",
   "name": "python",
   "nbconvert_exporter": "python",
   "pygments_lexer": "ipython3",
   "version": "3.12.0"
  }
 },
 "nbformat": 4,
 "nbformat_minor": 5
}
