{
 "cells": [
  {
   "cell_type": "code",
   "execution_count": 1,
   "metadata": {},
   "outputs": [],
   "source": [
    "#lib para banco de dados\n",
    "import sqlite3"
   ]
  },
  {
   "cell_type": "code",
   "execution_count": 2,
   "metadata": {},
   "outputs": [],
   "source": [
    "#criar o banco / caso exista faz a conexão com o banco\n",
    "conexao_Banco = sqlite3.connect('Banco_Dados_API.db')"
   ]
  },
  {
   "cell_type": "code",
   "execution_count": 4,
   "metadata": {},
   "outputs": [],
   "source": [
    "# apontar para o banco\n",
    "cursor = conexao_Banco.cursor()"
   ]
  },
  {
   "cell_type": "code",
   "execution_count": 7,
   "metadata": {},
   "outputs": [
    {
     "data": {
      "text/plain": [
       "<sqlite3.Cursor at 0x2439f47b840>"
      ]
     },
     "execution_count": 7,
     "metadata": {},
     "output_type": "execute_result"
    }
   ],
   "source": [
    "# query --> criar uma tabela\n",
    "\n",
    "Query_criar_banco = '''\n",
    "\n",
    "CREATE TABLE Log_API (\n",
    "    id INTEGER NOT NULL PRIMARY KEY AUTOINCREMENT,\n",
    "    Inputs TEXT,\n",
    "    Inicio TEXT,\n",
    "    Fim TEXT,\n",
    "    Processamento TEXT\n",
    ")\n",
    "'''\n",
    "\n",
    "cursor.execute( Query_criar_banco )"
   ]
  },
  {
   "cell_type": "code",
   "execution_count": 10,
   "metadata": {},
   "outputs": [],
   "source": [
    "# Inserir dados no banco\n",
    "\n",
    "Query_inserir = '''\n",
    "\n",
    "INSERT INTO Log_API ( Inputs, Inicio, Fim, Processamento )\n",
    "VALUES ( '25;1;1;0;0;0;0;0;84', '01/01/2023 19:00:01', '01/01/2023 19:00:02', '00:01' )\n",
    "'''\n",
    "\n",
    "cursor.execute( Query_inserir )\n",
    "\n",
    "# commit\n",
    "conexao_Banco.commit()"
   ]
  },
  {
   "cell_type": "code",
   "execution_count": 11,
   "metadata": {},
   "outputs": [
    {
     "data": {
      "text/plain": [
       "[(1,\n",
       "  '25;1;1;0;0;0;0;0;84',\n",
       "  '01/01/2023 19:00:01',\n",
       "  '01/01/2023 19:00:02',\n",
       "  '00:01')]"
      ]
     },
     "execution_count": 11,
     "metadata": {},
     "output_type": "execute_result"
    }
   ],
   "source": [
    "# consulta\n",
    "\n",
    "Query_consulta = '''\n",
    "\n",
    "SELECT * FROM Log_API\n",
    "'''\n",
    "\n",
    "# executando consulta\n",
    "cursor.execute( Query_consulta ).fetchall()"
   ]
  }
 ],
 "metadata": {
  "kernelspec": {
   "display_name": "Python 3",
   "language": "python",
   "name": "python3"
  },
  "language_info": {
   "codemirror_mode": {
    "name": "ipython",
    "version": 3
   },
   "file_extension": ".py",
   "mimetype": "text/x-python",
   "name": "python",
   "nbconvert_exporter": "python",
   "pygments_lexer": "ipython3",
   "version": "3.12.0"
  }
 },
 "nbformat": 4,
 "nbformat_minor": 2
}
